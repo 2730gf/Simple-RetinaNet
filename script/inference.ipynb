{
 "cells": [
  {
   "cell_type": "code",
   "execution_count": 3,
   "metadata": {},
   "outputs": [],
   "source": [
    "import os\n",
    "import sys\n",
    "# sys.path.append('../')"
   ]
  },
  {
   "cell_type": "code",
   "execution_count": 4,
   "metadata": {},
   "outputs": [
    {
     "ename": "ModuleNotFoundError",
     "evalue": "No module named 'backbone'",
     "output_type": "error",
     "traceback": [
      "\u001b[0;31m---------------------------------------------------------------------------\u001b[0m",
      "\u001b[0;31mModuleNotFoundError\u001b[0m                       Traceback (most recent call last)",
      "\u001b[0;32m<ipython-input-4-6a4863f51064>\u001b[0m in \u001b[0;36m<module>\u001b[0;34m\u001b[0m\n\u001b[1;32m      7\u001b[0m \u001b[0;32mimport\u001b[0m \u001b[0mmatplotlib\u001b[0m\u001b[0;34m.\u001b[0m\u001b[0mpyplot\u001b[0m \u001b[0;32mas\u001b[0m \u001b[0mplt\u001b[0m\u001b[0;34m\u001b[0m\u001b[0;34m\u001b[0m\u001b[0m\n\u001b[1;32m      8\u001b[0m \u001b[0;34m\u001b[0m\u001b[0m\n\u001b[0;32m----> 9\u001b[0;31m \u001b[0;32mfrom\u001b[0m \u001b[0mmodel\u001b[0m\u001b[0;34m.\u001b[0m\u001b[0mretinanet\u001b[0m \u001b[0;32mimport\u001b[0m \u001b[0mget_model\u001b[0m\u001b[0;34m\u001b[0m\u001b[0;34m\u001b[0m\u001b[0m\n\u001b[0m\u001b[1;32m     10\u001b[0m \u001b[0;32mfrom\u001b[0m \u001b[0mutils\u001b[0m \u001b[0;32mimport\u001b[0m \u001b[0msoft_nms\u001b[0m\u001b[0;34m\u001b[0m\u001b[0;34m\u001b[0m\u001b[0m\n",
      "\u001b[0;32m~/Learning/ObjectDetection/retinanet.pytorch/model/retinanet.py\u001b[0m in \u001b[0;36m<module>\u001b[0;34m\u001b[0m\n\u001b[1;32m      8\u001b[0m \u001b[0;32mimport\u001b[0m \u001b[0mtorch\u001b[0m\u001b[0;34m.\u001b[0m\u001b[0mutils\u001b[0m\u001b[0;34m.\u001b[0m\u001b[0mmodel_zoo\u001b[0m \u001b[0;32mas\u001b[0m \u001b[0mmodel_zoo\u001b[0m\u001b[0;34m\u001b[0m\u001b[0;34m\u001b[0m\u001b[0m\n\u001b[1;32m      9\u001b[0m \u001b[0;32mimport\u001b[0m \u001b[0mnumpy\u001b[0m \u001b[0;32mas\u001b[0m \u001b[0mnp\u001b[0m\u001b[0;34m\u001b[0m\u001b[0;34m\u001b[0m\u001b[0m\n\u001b[0;32m---> 10\u001b[0;31m \u001b[0;32mfrom\u001b[0m \u001b[0mbackbone\u001b[0m\u001b[0;34m.\u001b[0m\u001b[0mresnet_cbam\u001b[0m \u001b[0;32mimport\u001b[0m \u001b[0mresnet50_cbam\u001b[0m\u001b[0;34m,\u001b[0m \u001b[0mresnet101_cbam\u001b[0m\u001b[0;34m\u001b[0m\u001b[0;34m\u001b[0m\u001b[0m\n\u001b[0m\u001b[1;32m     11\u001b[0m \u001b[0;32mfrom\u001b[0m \u001b[0mbackbone\u001b[0m\u001b[0;34m.\u001b[0m\u001b[0mresnet\u001b[0m \u001b[0;32mimport\u001b[0m \u001b[0mresnet50\u001b[0m\u001b[0;34m,\u001b[0m \u001b[0mresnet101\u001b[0m\u001b[0;34m\u001b[0m\u001b[0;34m\u001b[0m\u001b[0m\n\u001b[1;32m     12\u001b[0m \u001b[0;32mfrom\u001b[0m \u001b[0mfpn\u001b[0m \u001b[0;32mimport\u001b[0m \u001b[0mFPN\u001b[0m\u001b[0;34m\u001b[0m\u001b[0;34m\u001b[0m\u001b[0m\n",
      "\u001b[0;31mModuleNotFoundError\u001b[0m: No module named 'backbone'"
     ]
    }
   ],
   "source": [
    "import cv2\n",
    "import random\n",
    "import torch\n",
    "import torch.nn as nn\n",
    "import numpy as np\n",
    "import matplotlib as mpl\n",
    "import matplotlib.pyplot as plt\n",
    "\n",
    "from model.retinanet import get_model\n",
    "from utils import soft_nms"
   ]
  },
  {
   "cell_type": "code",
   "execution_count": null,
   "metadata": {},
   "outputs": [],
   "source": [
    "id2label = {0: '1', 1:'2', 2:'3', 3:'4', 4:'5', 5:'6', 6:'7', 7:'8', 8:'9', 9:'0'}\n",
    "coco_classes=['person', 'bicycle', 'car', 'motorcycle', 'airplane', 'bus', 'train', 'truck', 'boat', 'traffic light', 'fire hydrant', 'stop sign', 'parking meter', 'bench', 'bird', 'cat', 'dog', 'horse', 'sheep', 'cow', 'elephant', 'bear', 'zebra', 'giraffe', 'backpack', 'umbrella', 'handbag', 'tie', 'suitcase', 'frisbee', 'skis', 'snowboard', 'sports ball', 'kite', 'baseball bat', 'baseball glove', 'skateboard', 'surfboard', 'tennis racket', 'bottle', 'wine glass', 'cup', 'fork', 'knife', 'spoon', 'bowl', 'banana', 'apple', 'sandwich', 'orange', 'broccoli', 'carrot', 'hot dog', 'pizza', 'donut', 'cake', 'chair', 'couch', 'potted plant', 'bed', 'dining table', 'toilet', 'tv', 'laptop', 'mouse', 'remote', 'keyboard', 'cell phone', 'microwave', 'oven', 'toaster', 'sink', 'refrigerator', 'book', 'clock', 'vase', 'scissors', 'teddy bear', 'hair drier', 'toothbrush']\n",
    "color_map = [(np.random.rand(), np.random.rand(), np.random.rand()) for _ in range(len(coco_classes))]"
   ]
  },
  {
   "cell_type": "code",
   "execution_count": null,
   "metadata": {
    "scrolled": true
   },
   "outputs": [],
   "source": [
    "from collections import OrderedDict\n",
    "\n",
    "model_path = \"../checkpoints/coco/epoch_33_loss_0.73568.pth\"\n",
    "retinanet = get_model(num_classes=80, pretrained=False)\n",
    "state_dict = torch.load(model_path)\n",
    "\n",
    "new_state_dictBA = OrderedDict()\n",
    "for k, v in state_dict.items():\n",
    "    name = k[7:] # remove `module.`\n",
    "    new_state_dictBA[name] = v\n",
    "\n",
    "retinanet.load_state_dict(new_state_dictBA)\n",
    "retinanet.eval()"
   ]
  },
  {
   "cell_type": "code",
   "execution_count": null,
   "metadata": {},
   "outputs": [],
   "source": [
    "import random\n",
    "img_root = '/home/workspace/chencheng/Learning/ObjectDetection/Datasets/CoCodataset/train2017/'\n",
    "img_lists = os.listdir(img_root)\n",
    "plt.figure(dpi=180)\n",
    "for i, img_path in enumerate(random.sample(img_lists, 2)):\n",
    "    img_path = os.path.join(img_root, img_path)\n",
    "    img = cv2.imread(img_path)[..., ::-1]\n",
    "    # img = cv2.resize(img, (640, 480))\n",
    "    # plt.imshow(img)\n",
    "\n",
    "    mean=(0.485, 0.456, 0.406)\n",
    "    std=(0.229, 0.224, 0.225)\n",
    "    normalized_imgs = (img / 255 - mean) / std \n",
    "\n",
    "    resize_wh = (1024, 768)\n",
    "    ori_h, ori_w = normalized_imgs.shape[:2]\n",
    "    scale = resize_wh[1] / ori_h\n",
    "    if scale * ori_w > resize_wh[0]:\n",
    "        scale = resize_wh[0] / ori_w\n",
    "    new_h, new_w = int(scale * ori_h), int(scale * ori_w)\n",
    "    img_resized = cv2.resize(normalized_imgs, (new_w, new_h))\n",
    "\n",
    "    img_paded = np.zeros([resize_wh[1], resize_wh[0], 3])\n",
    "    img_paded[:new_h, :new_w, :] = img_resized\n",
    "\n",
    "    img_input = torch.from_numpy(img_paded).permute(2, 0, 1).unsqueeze(dim=0).float()\n",
    "\n",
    "    features, regression, classification, anchors = retinanet(img_input)\n",
    "\n",
    "    from model.utils import BBoxTransform, ClipBoxes, nms_with_class, nms_without_class\n",
    "    regressBoxes = BBoxTransform()\n",
    "    clipBoxes = ClipBoxes()\n",
    "\n",
    "    trans_anchors = regressBoxes(anchors, regression)\n",
    "    transformed_anchors = clipBoxes(trans_anchors, img_input)\n",
    "\n",
    "    scores = torch.max(classification, dim=2, keepdim=True)[0]  # 计算anchor的最高得分\n",
    "    scores_over_thresh = (scores > 0.25)[:, :, 0]\n",
    "    print(scores_over_thresh.sum())\n",
    "\n",
    "    classification_per = classification[0, scores_over_thresh[0, :], ...].permute(1, 0)  # 将框对应的分类信息取出来\n",
    "\n",
    "    transformed_anchors_per = transformed_anchors[0, scores_over_thresh[0, :], ...]  # 将框取出来\n",
    "    scores_per = scores[0, scores_over_thresh[0, :], ...]\n",
    "    scores_, classes_ = classification_per.max(dim=0)  # 获得每个框的得分以及对应的类别\n",
    "    # anchors_nms_idx = nms_with_class(transformed_anchors_per, scores_per[:, 0],classes_, iou_threshold=0.3)\n",
    "    anchors_nms_idx = nms_without_class(transformed_anchors_per, scores_per[:, 0], iou_threshold=0.3)\n",
    "    # anchors_nms_idx = soft_nms(transformed_anchors_per, scores_per[:, 0], thresh=0.25)\n",
    "    \n",
    "    after_nms_anchor = transformed_anchors_per[anchors_nms_idx]\n",
    "    after_num_class = classes_[anchors_nms_idx]\n",
    "\n",
    "    map2ori_bbox = (after_nms_anchor / scale).cpu().detach().numpy()\n",
    "    filtered_classes = after_num_class.cpu().detach().numpy()\n",
    "\n",
    "    plt.subplot(1, 2, i+1)\n",
    "    plt.imshow(img)\n",
    "    for idx, rect in enumerate(map2ori_bbox):\n",
    "        x1 = rect[0]\n",
    "        y1 = rect[1]\n",
    "        x2 = rect[2]\n",
    "        y2 = rect[3]\n",
    "        w = x2 - x1\n",
    "        h = y2 - y1\n",
    "        color=color_map[filtered_classes[idx]]\n",
    "        plt.gca().add_patch(mpl.patches.Rectangle((x1, y1), w, h, edgecolor=color, fill=False))\n",
    "        plt.text(x1+2, y1-5, coco_classes[filtered_classes[idx]], \\\n",
    "                 fontsize=6,\n",
    "                 bbox=dict(boxstyle='square,pad=0.2',fc=color, lw=0, alpha=0.5),wrap=True)\n",
    "plt.show()"
   ]
  },
  {
   "cell_type": "code",
   "execution_count": null,
   "metadata": {},
   "outputs": [],
   "source": []
  }
 ],
 "metadata": {
  "kernelspec": {
   "display_name": "mmlab",
   "language": "python",
   "name": "mmlab"
  },
  "language_info": {
   "codemirror_mode": {
    "name": "ipython",
    "version": 3
   },
   "file_extension": ".py",
   "mimetype": "text/x-python",
   "name": "python",
   "nbconvert_exporter": "python",
   "pygments_lexer": "ipython3",
   "version": "3.7.6"
  },
  "toc": {
   "base_numbering": 1,
   "nav_menu": {},
   "number_sections": true,
   "sideBar": true,
   "skip_h1_title": false,
   "title_cell": "Table of Contents",
   "title_sidebar": "Contents",
   "toc_cell": false,
   "toc_position": {},
   "toc_section_display": true,
   "toc_window_display": false
  }
 },
 "nbformat": 4,
 "nbformat_minor": 4
}
